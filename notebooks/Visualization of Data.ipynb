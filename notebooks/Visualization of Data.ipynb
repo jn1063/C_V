{
 "cells": [
  {
   "cell_type": "code",
   "execution_count": 1,
   "metadata": {
    "ExecuteTime": {
     "end_time": "2020-11-09T20:35:46.737585Z",
     "start_time": "2020-11-09T20:35:44.996685Z"
    }
   },
   "outputs": [],
   "source": [
    "import pandas as pd\n",
    "import data_work\n",
    "\n",
    "import matplotlib.pyplot as plt\n",
    "import matplotlib.ticker as mtick"
   ]
  },
  {
   "cell_type": "code",
   "execution_count": 2,
   "metadata": {
    "ExecuteTime": {
     "end_time": "2020-11-09T20:35:46.808397Z",
     "start_time": "2020-11-09T20:35:46.745566Z"
    }
   },
   "outputs": [
    {
     "data": {
      "text/html": [
       "<div>\n",
       "<style scoped>\n",
       "    .dataframe tbody tr th:only-of-type {\n",
       "        vertical-align: middle;\n",
       "    }\n",
       "\n",
       "    .dataframe tbody tr th {\n",
       "        vertical-align: top;\n",
       "    }\n",
       "\n",
       "    .dataframe thead th {\n",
       "        text-align: right;\n",
       "    }\n",
       "</style>\n",
       "<table border=\"1\" class=\"dataframe\">\n",
       "  <thead>\n",
       "    <tr style=\"text-align: right;\">\n",
       "      <th></th>\n",
       "      <th>contract_id</th>\n",
       "      <th>contract_start</th>\n",
       "      <th>contract_term</th>\n",
       "      <th>deposit</th>\n",
       "      <th>monthly_amt</th>\n",
       "      <th>company</th>\n",
       "      <th>sector</th>\n",
       "      <th>industry</th>\n",
       "      <th>email</th>\n",
       "      <th>address</th>\n",
       "      <th>city</th>\n",
       "      <th>state</th>\n",
       "      <th>zip</th>\n",
       "    </tr>\n",
       "    <tr>\n",
       "      <th>customer_id</th>\n",
       "      <th></th>\n",
       "      <th></th>\n",
       "      <th></th>\n",
       "      <th></th>\n",
       "      <th></th>\n",
       "      <th></th>\n",
       "      <th></th>\n",
       "      <th></th>\n",
       "      <th></th>\n",
       "      <th></th>\n",
       "      <th></th>\n",
       "      <th></th>\n",
       "      <th></th>\n",
       "    </tr>\n",
       "  </thead>\n",
       "  <tbody>\n",
       "    <tr>\n",
       "      <th>1</th>\n",
       "      <td>41</td>\n",
       "      <td>5/31/2019</td>\n",
       "      <td>24</td>\n",
       "      <td>$86,000.00</td>\n",
       "      <td>$11,200.00</td>\n",
       "      <td>Bubblebox</td>\n",
       "      <td>Capital Goods</td>\n",
       "      <td>Military/Government/Technical</td>\n",
       "      <td>kyerson0@bizjournals.com</td>\n",
       "      <td>76 Randy Circle</td>\n",
       "      <td>San Diego</td>\n",
       "      <td>CA</td>\n",
       "      <td>92170</td>\n",
       "    </tr>\n",
       "    <tr>\n",
       "      <th>1</th>\n",
       "      <td>358</td>\n",
       "      <td>6/18/2019</td>\n",
       "      <td>13</td>\n",
       "      <td>$74,000.00</td>\n",
       "      <td>$19,000.00</td>\n",
       "      <td>Bubblebox</td>\n",
       "      <td>Capital Goods</td>\n",
       "      <td>Military/Government/Technical</td>\n",
       "      <td>kyerson0@bizjournals.com</td>\n",
       "      <td>76 Randy Circle</td>\n",
       "      <td>San Diego</td>\n",
       "      <td>CA</td>\n",
       "      <td>92170</td>\n",
       "    </tr>\n",
       "    <tr>\n",
       "      <th>1</th>\n",
       "      <td>400</td>\n",
       "      <td>8/11/2019</td>\n",
       "      <td>19</td>\n",
       "      <td>$38,000.00</td>\n",
       "      <td>$8,800.00</td>\n",
       "      <td>Bubblebox</td>\n",
       "      <td>Capital Goods</td>\n",
       "      <td>Military/Government/Technical</td>\n",
       "      <td>kyerson0@bizjournals.com</td>\n",
       "      <td>76 Randy Circle</td>\n",
       "      <td>San Diego</td>\n",
       "      <td>CA</td>\n",
       "      <td>92170</td>\n",
       "    </tr>\n",
       "    <tr>\n",
       "      <th>1</th>\n",
       "      <td>424</td>\n",
       "      <td>3/13/2019</td>\n",
       "      <td>15</td>\n",
       "      <td>$77,000.00</td>\n",
       "      <td>$14,300.00</td>\n",
       "      <td>Bubblebox</td>\n",
       "      <td>Capital Goods</td>\n",
       "      <td>Military/Government/Technical</td>\n",
       "      <td>kyerson0@bizjournals.com</td>\n",
       "      <td>76 Randy Circle</td>\n",
       "      <td>San Diego</td>\n",
       "      <td>CA</td>\n",
       "      <td>92170</td>\n",
       "    </tr>\n",
       "    <tr>\n",
       "      <th>1</th>\n",
       "      <td>438</td>\n",
       "      <td>10/16/2019</td>\n",
       "      <td>22</td>\n",
       "      <td>$39,000.00</td>\n",
       "      <td>$20,000.00</td>\n",
       "      <td>Bubblebox</td>\n",
       "      <td>Capital Goods</td>\n",
       "      <td>Military/Government/Technical</td>\n",
       "      <td>kyerson0@bizjournals.com</td>\n",
       "      <td>76 Randy Circle</td>\n",
       "      <td>San Diego</td>\n",
       "      <td>CA</td>\n",
       "      <td>92170</td>\n",
       "    </tr>\n",
       "  </tbody>\n",
       "</table>\n",
       "</div>"
      ],
      "text/plain": [
       "             contract_id contract_start  contract_term     deposit  \\\n",
       "customer_id                                                          \n",
       "1                     41      5/31/2019             24  $86,000.00   \n",
       "1                    358      6/18/2019             13  $74,000.00   \n",
       "1                    400      8/11/2019             19  $38,000.00   \n",
       "1                    424      3/13/2019             15  $77,000.00   \n",
       "1                    438     10/16/2019             22  $39,000.00   \n",
       "\n",
       "            monthly_amt    company         sector  \\\n",
       "customer_id                                         \n",
       "1            $11,200.00  Bubblebox  Capital Goods   \n",
       "1            $19,000.00  Bubblebox  Capital Goods   \n",
       "1             $8,800.00  Bubblebox  Capital Goods   \n",
       "1            $14,300.00  Bubblebox  Capital Goods   \n",
       "1            $20,000.00  Bubblebox  Capital Goods   \n",
       "\n",
       "                                  industry                     email  \\\n",
       "customer_id                                                            \n",
       "1            Military/Government/Technical  kyerson0@bizjournals.com   \n",
       "1            Military/Government/Technical  kyerson0@bizjournals.com   \n",
       "1            Military/Government/Technical  kyerson0@bizjournals.com   \n",
       "1            Military/Government/Technical  kyerson0@bizjournals.com   \n",
       "1            Military/Government/Technical  kyerson0@bizjournals.com   \n",
       "\n",
       "                     address       city state    zip  \n",
       "customer_id                                           \n",
       "1            76 Randy Circle  San Diego    CA  92170  \n",
       "1            76 Randy Circle  San Diego    CA  92170  \n",
       "1            76 Randy Circle  San Diego    CA  92170  \n",
       "1            76 Randy Circle  San Diego    CA  92170  \n",
       "1            76 Randy Circle  San Diego    CA  92170  "
      ]
     },
     "execution_count": 2,
     "metadata": {},
     "output_type": "execute_result"
    }
   ],
   "source": [
    "df = data_work.load_data()\n",
    "df.head()"
   ]
  },
  {
   "cell_type": "code",
   "execution_count": 3,
   "metadata": {
    "ExecuteTime": {
     "end_time": "2020-11-09T20:35:46.878210Z",
     "start_time": "2020-11-09T20:35:46.812386Z"
    },
    "scrolled": false
   },
   "outputs": [
    {
     "data": {
      "text/html": [
       "<div>\n",
       "<style scoped>\n",
       "    .dataframe tbody tr th:only-of-type {\n",
       "        vertical-align: middle;\n",
       "    }\n",
       "\n",
       "    .dataframe tbody tr th {\n",
       "        vertical-align: top;\n",
       "    }\n",
       "\n",
       "    .dataframe thead th {\n",
       "        text-align: right;\n",
       "    }\n",
       "</style>\n",
       "<table border=\"1\" class=\"dataframe\">\n",
       "  <thead>\n",
       "    <tr style=\"text-align: right;\">\n",
       "      <th></th>\n",
       "      <th>contract_id</th>\n",
       "      <th>contract_start</th>\n",
       "      <th>contract_term</th>\n",
       "      <th>deposit</th>\n",
       "      <th>monthly_amt</th>\n",
       "      <th>company</th>\n",
       "      <th>sector</th>\n",
       "      <th>industry</th>\n",
       "      <th>email</th>\n",
       "      <th>address</th>\n",
       "      <th>city</th>\n",
       "      <th>state</th>\n",
       "      <th>zip</th>\n",
       "    </tr>\n",
       "    <tr>\n",
       "      <th>customer_id</th>\n",
       "      <th></th>\n",
       "      <th></th>\n",
       "      <th></th>\n",
       "      <th></th>\n",
       "      <th></th>\n",
       "      <th></th>\n",
       "      <th></th>\n",
       "      <th></th>\n",
       "      <th></th>\n",
       "      <th></th>\n",
       "      <th></th>\n",
       "      <th></th>\n",
       "      <th></th>\n",
       "    </tr>\n",
       "  </thead>\n",
       "  <tbody>\n",
       "    <tr>\n",
       "      <th>1</th>\n",
       "      <td>41</td>\n",
       "      <td>5/31/2019</td>\n",
       "      <td>24</td>\n",
       "      <td>86000.0</td>\n",
       "      <td>11200.0</td>\n",
       "      <td>Bubblebox</td>\n",
       "      <td>Capital Goods</td>\n",
       "      <td>Military/Government/Technical</td>\n",
       "      <td>kyerson0@bizjournals.com</td>\n",
       "      <td>76 Randy Circle</td>\n",
       "      <td>San Diego</td>\n",
       "      <td>CA</td>\n",
       "      <td>92170</td>\n",
       "    </tr>\n",
       "    <tr>\n",
       "      <th>1</th>\n",
       "      <td>358</td>\n",
       "      <td>6/18/2019</td>\n",
       "      <td>13</td>\n",
       "      <td>74000.0</td>\n",
       "      <td>19000.0</td>\n",
       "      <td>Bubblebox</td>\n",
       "      <td>Capital Goods</td>\n",
       "      <td>Military/Government/Technical</td>\n",
       "      <td>kyerson0@bizjournals.com</td>\n",
       "      <td>76 Randy Circle</td>\n",
       "      <td>San Diego</td>\n",
       "      <td>CA</td>\n",
       "      <td>92170</td>\n",
       "    </tr>\n",
       "    <tr>\n",
       "      <th>1</th>\n",
       "      <td>400</td>\n",
       "      <td>8/11/2019</td>\n",
       "      <td>19</td>\n",
       "      <td>38000.0</td>\n",
       "      <td>8800.0</td>\n",
       "      <td>Bubblebox</td>\n",
       "      <td>Capital Goods</td>\n",
       "      <td>Military/Government/Technical</td>\n",
       "      <td>kyerson0@bizjournals.com</td>\n",
       "      <td>76 Randy Circle</td>\n",
       "      <td>San Diego</td>\n",
       "      <td>CA</td>\n",
       "      <td>92170</td>\n",
       "    </tr>\n",
       "    <tr>\n",
       "      <th>1</th>\n",
       "      <td>424</td>\n",
       "      <td>3/13/2019</td>\n",
       "      <td>15</td>\n",
       "      <td>77000.0</td>\n",
       "      <td>14300.0</td>\n",
       "      <td>Bubblebox</td>\n",
       "      <td>Capital Goods</td>\n",
       "      <td>Military/Government/Technical</td>\n",
       "      <td>kyerson0@bizjournals.com</td>\n",
       "      <td>76 Randy Circle</td>\n",
       "      <td>San Diego</td>\n",
       "      <td>CA</td>\n",
       "      <td>92170</td>\n",
       "    </tr>\n",
       "    <tr>\n",
       "      <th>1</th>\n",
       "      <td>438</td>\n",
       "      <td>10/16/2019</td>\n",
       "      <td>22</td>\n",
       "      <td>39000.0</td>\n",
       "      <td>20000.0</td>\n",
       "      <td>Bubblebox</td>\n",
       "      <td>Capital Goods</td>\n",
       "      <td>Military/Government/Technical</td>\n",
       "      <td>kyerson0@bizjournals.com</td>\n",
       "      <td>76 Randy Circle</td>\n",
       "      <td>San Diego</td>\n",
       "      <td>CA</td>\n",
       "      <td>92170</td>\n",
       "    </tr>\n",
       "  </tbody>\n",
       "</table>\n",
       "</div>"
      ],
      "text/plain": [
       "             contract_id contract_start  contract_term  deposit  monthly_amt  \\\n",
       "customer_id                                                                    \n",
       "1                     41      5/31/2019             24  86000.0      11200.0   \n",
       "1                    358      6/18/2019             13  74000.0      19000.0   \n",
       "1                    400      8/11/2019             19  38000.0       8800.0   \n",
       "1                    424      3/13/2019             15  77000.0      14300.0   \n",
       "1                    438     10/16/2019             22  39000.0      20000.0   \n",
       "\n",
       "               company         sector                       industry  \\\n",
       "customer_id                                                            \n",
       "1            Bubblebox  Capital Goods  Military/Government/Technical   \n",
       "1            Bubblebox  Capital Goods  Military/Government/Technical   \n",
       "1            Bubblebox  Capital Goods  Military/Government/Technical   \n",
       "1            Bubblebox  Capital Goods  Military/Government/Technical   \n",
       "1            Bubblebox  Capital Goods  Military/Government/Technical   \n",
       "\n",
       "                                email          address       city state    zip  \n",
       "customer_id                                                                     \n",
       "1            kyerson0@bizjournals.com  76 Randy Circle  San Diego    CA  92170  \n",
       "1            kyerson0@bizjournals.com  76 Randy Circle  San Diego    CA  92170  \n",
       "1            kyerson0@bizjournals.com  76 Randy Circle  San Diego    CA  92170  \n",
       "1            kyerson0@bizjournals.com  76 Randy Circle  San Diego    CA  92170  \n",
       "1            kyerson0@bizjournals.com  76 Randy Circle  San Diego    CA  92170  "
      ]
     },
     "execution_count": 3,
     "metadata": {},
     "output_type": "execute_result"
    }
   ],
   "source": [
    "df = data_work.clean_values(df)\n",
    "df.head()"
   ]
  },
  {
   "cell_type": "code",
   "execution_count": 4,
   "metadata": {
    "ExecuteTime": {
     "end_time": "2020-11-09T20:35:46.940050Z",
     "start_time": "2020-11-09T20:35:46.881202Z"
    }
   },
   "outputs": [
    {
     "data": {
      "text/html": [
       "<div>\n",
       "<style scoped>\n",
       "    .dataframe tbody tr th:only-of-type {\n",
       "        vertical-align: middle;\n",
       "    }\n",
       "\n",
       "    .dataframe tbody tr th {\n",
       "        vertical-align: top;\n",
       "    }\n",
       "\n",
       "    .dataframe thead th {\n",
       "        text-align: right;\n",
       "    }\n",
       "</style>\n",
       "<table border=\"1\" class=\"dataframe\">\n",
       "  <thead>\n",
       "    <tr style=\"text-align: right;\">\n",
       "      <th></th>\n",
       "      <th>contract_id</th>\n",
       "      <th>contract_start</th>\n",
       "      <th>contract_term</th>\n",
       "      <th>deposit</th>\n",
       "      <th>monthly_amt</th>\n",
       "      <th>company</th>\n",
       "      <th>sector</th>\n",
       "      <th>industry</th>\n",
       "      <th>email</th>\n",
       "      <th>address</th>\n",
       "      <th>city</th>\n",
       "      <th>state</th>\n",
       "      <th>zip</th>\n",
       "      <th>monthly_total_revenue</th>\n",
       "      <th>total_revenue</th>\n",
       "    </tr>\n",
       "    <tr>\n",
       "      <th>customer_id</th>\n",
       "      <th></th>\n",
       "      <th></th>\n",
       "      <th></th>\n",
       "      <th></th>\n",
       "      <th></th>\n",
       "      <th></th>\n",
       "      <th></th>\n",
       "      <th></th>\n",
       "      <th></th>\n",
       "      <th></th>\n",
       "      <th></th>\n",
       "      <th></th>\n",
       "      <th></th>\n",
       "      <th></th>\n",
       "      <th></th>\n",
       "    </tr>\n",
       "  </thead>\n",
       "  <tbody>\n",
       "    <tr>\n",
       "      <th>1</th>\n",
       "      <td>41</td>\n",
       "      <td>5/31/2019</td>\n",
       "      <td>24</td>\n",
       "      <td>86000.0</td>\n",
       "      <td>11200.0</td>\n",
       "      <td>Bubblebox</td>\n",
       "      <td>Capital Goods</td>\n",
       "      <td>Military/Government/Technical</td>\n",
       "      <td>kyerson0@bizjournals.com</td>\n",
       "      <td>76 Randy Circle</td>\n",
       "      <td>San Diego</td>\n",
       "      <td>CA</td>\n",
       "      <td>92170</td>\n",
       "      <td>268800.0</td>\n",
       "      <td>354800.0</td>\n",
       "    </tr>\n",
       "    <tr>\n",
       "      <th>1</th>\n",
       "      <td>358</td>\n",
       "      <td>6/18/2019</td>\n",
       "      <td>13</td>\n",
       "      <td>74000.0</td>\n",
       "      <td>19000.0</td>\n",
       "      <td>Bubblebox</td>\n",
       "      <td>Capital Goods</td>\n",
       "      <td>Military/Government/Technical</td>\n",
       "      <td>kyerson0@bizjournals.com</td>\n",
       "      <td>76 Randy Circle</td>\n",
       "      <td>San Diego</td>\n",
       "      <td>CA</td>\n",
       "      <td>92170</td>\n",
       "      <td>247000.0</td>\n",
       "      <td>321000.0</td>\n",
       "    </tr>\n",
       "    <tr>\n",
       "      <th>1</th>\n",
       "      <td>400</td>\n",
       "      <td>8/11/2019</td>\n",
       "      <td>19</td>\n",
       "      <td>38000.0</td>\n",
       "      <td>8800.0</td>\n",
       "      <td>Bubblebox</td>\n",
       "      <td>Capital Goods</td>\n",
       "      <td>Military/Government/Technical</td>\n",
       "      <td>kyerson0@bizjournals.com</td>\n",
       "      <td>76 Randy Circle</td>\n",
       "      <td>San Diego</td>\n",
       "      <td>CA</td>\n",
       "      <td>92170</td>\n",
       "      <td>167200.0</td>\n",
       "      <td>205200.0</td>\n",
       "    </tr>\n",
       "    <tr>\n",
       "      <th>1</th>\n",
       "      <td>424</td>\n",
       "      <td>3/13/2019</td>\n",
       "      <td>15</td>\n",
       "      <td>77000.0</td>\n",
       "      <td>14300.0</td>\n",
       "      <td>Bubblebox</td>\n",
       "      <td>Capital Goods</td>\n",
       "      <td>Military/Government/Technical</td>\n",
       "      <td>kyerson0@bizjournals.com</td>\n",
       "      <td>76 Randy Circle</td>\n",
       "      <td>San Diego</td>\n",
       "      <td>CA</td>\n",
       "      <td>92170</td>\n",
       "      <td>214500.0</td>\n",
       "      <td>291500.0</td>\n",
       "    </tr>\n",
       "    <tr>\n",
       "      <th>1</th>\n",
       "      <td>438</td>\n",
       "      <td>10/16/2019</td>\n",
       "      <td>22</td>\n",
       "      <td>39000.0</td>\n",
       "      <td>20000.0</td>\n",
       "      <td>Bubblebox</td>\n",
       "      <td>Capital Goods</td>\n",
       "      <td>Military/Government/Technical</td>\n",
       "      <td>kyerson0@bizjournals.com</td>\n",
       "      <td>76 Randy Circle</td>\n",
       "      <td>San Diego</td>\n",
       "      <td>CA</td>\n",
       "      <td>92170</td>\n",
       "      <td>440000.0</td>\n",
       "      <td>479000.0</td>\n",
       "    </tr>\n",
       "  </tbody>\n",
       "</table>\n",
       "</div>"
      ],
      "text/plain": [
       "             contract_id contract_start  contract_term  deposit  monthly_amt  \\\n",
       "customer_id                                                                    \n",
       "1                     41      5/31/2019             24  86000.0      11200.0   \n",
       "1                    358      6/18/2019             13  74000.0      19000.0   \n",
       "1                    400      8/11/2019             19  38000.0       8800.0   \n",
       "1                    424      3/13/2019             15  77000.0      14300.0   \n",
       "1                    438     10/16/2019             22  39000.0      20000.0   \n",
       "\n",
       "               company         sector                       industry  \\\n",
       "customer_id                                                            \n",
       "1            Bubblebox  Capital Goods  Military/Government/Technical   \n",
       "1            Bubblebox  Capital Goods  Military/Government/Technical   \n",
       "1            Bubblebox  Capital Goods  Military/Government/Technical   \n",
       "1            Bubblebox  Capital Goods  Military/Government/Technical   \n",
       "1            Bubblebox  Capital Goods  Military/Government/Technical   \n",
       "\n",
       "                                email          address       city state  \\\n",
       "customer_id                                                               \n",
       "1            kyerson0@bizjournals.com  76 Randy Circle  San Diego    CA   \n",
       "1            kyerson0@bizjournals.com  76 Randy Circle  San Diego    CA   \n",
       "1            kyerson0@bizjournals.com  76 Randy Circle  San Diego    CA   \n",
       "1            kyerson0@bizjournals.com  76 Randy Circle  San Diego    CA   \n",
       "1            kyerson0@bizjournals.com  76 Randy Circle  San Diego    CA   \n",
       "\n",
       "               zip  monthly_total_revenue  total_revenue  \n",
       "customer_id                                               \n",
       "1            92170               268800.0       354800.0  \n",
       "1            92170               247000.0       321000.0  \n",
       "1            92170               167200.0       205200.0  \n",
       "1            92170               214500.0       291500.0  \n",
       "1            92170               440000.0       479000.0  "
      ]
     },
     "execution_count": 4,
     "metadata": {},
     "output_type": "execute_result"
    }
   ],
   "source": [
    "df = data_work.summary_calculations(df)\n",
    "df.head()"
   ]
  },
  {
   "cell_type": "code",
   "execution_count": 5,
   "metadata": {
    "ExecuteTime": {
     "end_time": "2020-11-09T20:36:02.117157Z",
     "start_time": "2020-11-09T20:35:46.971473Z"
    }
   },
   "outputs": [
    {
     "data": {
      "text/html": [
       "<div>\n",
       "<style scoped>\n",
       "    .dataframe tbody tr th:only-of-type {\n",
       "        vertical-align: middle;\n",
       "    }\n",
       "\n",
       "    .dataframe tbody tr th {\n",
       "        vertical-align: top;\n",
       "    }\n",
       "\n",
       "    .dataframe thead th {\n",
       "        text-align: right;\n",
       "    }\n",
       "</style>\n",
       "<table border=\"1\" class=\"dataframe\">\n",
       "  <thead>\n",
       "    <tr style=\"text-align: right;\">\n",
       "      <th></th>\n",
       "      <th>customer_id</th>\n",
       "      <th>contract_id</th>\n",
       "      <th>deposit</th>\n",
       "      <th>amt_due</th>\n",
       "      <th>company</th>\n",
       "      <th>sector</th>\n",
       "      <th>industry</th>\n",
       "      <th>email</th>\n",
       "      <th>address</th>\n",
       "      <th>city</th>\n",
       "      <th>state</th>\n",
       "      <th>zip</th>\n",
       "    </tr>\n",
       "    <tr>\n",
       "      <th>due_date</th>\n",
       "      <th></th>\n",
       "      <th></th>\n",
       "      <th></th>\n",
       "      <th></th>\n",
       "      <th></th>\n",
       "      <th></th>\n",
       "      <th></th>\n",
       "      <th></th>\n",
       "      <th></th>\n",
       "      <th></th>\n",
       "      <th></th>\n",
       "      <th></th>\n",
       "    </tr>\n",
       "  </thead>\n",
       "  <tbody>\n",
       "    <tr>\n",
       "      <th>2019-01-01</th>\n",
       "      <td>20</td>\n",
       "      <td>60</td>\n",
       "      <td>False</td>\n",
       "      <td>11900.0</td>\n",
       "      <td>Omba</td>\n",
       "      <td>NaN</td>\n",
       "      <td>NaN</td>\n",
       "      <td>ctreblej@ifeng.com</td>\n",
       "      <td>2120 Kensington Center</td>\n",
       "      <td>Seattle</td>\n",
       "      <td>WA</td>\n",
       "      <td>98185</td>\n",
       "    </tr>\n",
       "    <tr>\n",
       "      <th>2019-01-01</th>\n",
       "      <td>90</td>\n",
       "      <td>392</td>\n",
       "      <td>True</td>\n",
       "      <td>67000.0</td>\n",
       "      <td>Brightbean</td>\n",
       "      <td>Health Care</td>\n",
       "      <td>Biotechnology: Biological Products (No Diagnos...</td>\n",
       "      <td>ncoaten2h@altervista.org</td>\n",
       "      <td>11712 Elgar Center</td>\n",
       "      <td>Portland</td>\n",
       "      <td>OR</td>\n",
       "      <td>97206</td>\n",
       "    </tr>\n",
       "    <tr>\n",
       "      <th>2019-01-01</th>\n",
       "      <td>90</td>\n",
       "      <td>392</td>\n",
       "      <td>False</td>\n",
       "      <td>7700.0</td>\n",
       "      <td>Brightbean</td>\n",
       "      <td>Health Care</td>\n",
       "      <td>Biotechnology: Biological Products (No Diagnos...</td>\n",
       "      <td>ncoaten2h@altervista.org</td>\n",
       "      <td>11712 Elgar Center</td>\n",
       "      <td>Portland</td>\n",
       "      <td>OR</td>\n",
       "      <td>97206</td>\n",
       "    </tr>\n",
       "    <tr>\n",
       "      <th>2019-01-01</th>\n",
       "      <td>168</td>\n",
       "      <td>627</td>\n",
       "      <td>True</td>\n",
       "      <td>78000.0</td>\n",
       "      <td>Leenti</td>\n",
       "      <td>Consumer Services</td>\n",
       "      <td>Television Services</td>\n",
       "      <td>ndoone4n@go.com</td>\n",
       "      <td>471 Northwestern Way</td>\n",
       "      <td>Cincinnati</td>\n",
       "      <td>OH</td>\n",
       "      <td>45208</td>\n",
       "    </tr>\n",
       "    <tr>\n",
       "      <th>2019-01-01</th>\n",
       "      <td>168</td>\n",
       "      <td>627</td>\n",
       "      <td>False</td>\n",
       "      <td>18700.0</td>\n",
       "      <td>Leenti</td>\n",
       "      <td>Consumer Services</td>\n",
       "      <td>Television Services</td>\n",
       "      <td>ndoone4n@go.com</td>\n",
       "      <td>471 Northwestern Way</td>\n",
       "      <td>Cincinnati</td>\n",
       "      <td>OH</td>\n",
       "      <td>45208</td>\n",
       "    </tr>\n",
       "  </tbody>\n",
       "</table>\n",
       "</div>"
      ],
      "text/plain": [
       "            customer_id  contract_id  deposit  amt_due     company  \\\n",
       "due_date                                                             \n",
       "2019-01-01           20           60    False  11900.0        Omba   \n",
       "2019-01-01           90          392     True  67000.0  Brightbean   \n",
       "2019-01-01           90          392    False   7700.0  Brightbean   \n",
       "2019-01-01          168          627     True  78000.0      Leenti   \n",
       "2019-01-01          168          627    False  18700.0      Leenti   \n",
       "\n",
       "                       sector  \\\n",
       "due_date                        \n",
       "2019-01-01                NaN   \n",
       "2019-01-01        Health Care   \n",
       "2019-01-01        Health Care   \n",
       "2019-01-01  Consumer Services   \n",
       "2019-01-01  Consumer Services   \n",
       "\n",
       "                                                     industry  \\\n",
       "due_date                                                        \n",
       "2019-01-01                                                NaN   \n",
       "2019-01-01  Biotechnology: Biological Products (No Diagnos...   \n",
       "2019-01-01  Biotechnology: Biological Products (No Diagnos...   \n",
       "2019-01-01                                Television Services   \n",
       "2019-01-01                                Television Services   \n",
       "\n",
       "                               email                 address        city  \\\n",
       "due_date                                                                   \n",
       "2019-01-01        ctreblej@ifeng.com  2120 Kensington Center     Seattle   \n",
       "2019-01-01  ncoaten2h@altervista.org      11712 Elgar Center    Portland   \n",
       "2019-01-01  ncoaten2h@altervista.org      11712 Elgar Center    Portland   \n",
       "2019-01-01           ndoone4n@go.com    471 Northwestern Way  Cincinnati   \n",
       "2019-01-01           ndoone4n@go.com    471 Northwestern Way  Cincinnati   \n",
       "\n",
       "           state    zip  \n",
       "due_date                 \n",
       "2019-01-01    WA  98185  \n",
       "2019-01-01    OR  97206  \n",
       "2019-01-01    OR  97206  \n",
       "2019-01-01    OH  45208  \n",
       "2019-01-01    OH  45208  "
      ]
     },
     "execution_count": 5,
     "metadata": {},
     "output_type": "execute_result"
    }
   ],
   "source": [
    "df_detail = data_work.detail_calculations(df)\n",
    "df_detail.head()"
   ]
  },
  {
   "cell_type": "code",
   "execution_count": 6,
   "metadata": {
    "ExecuteTime": {
     "end_time": "2020-11-09T20:36:02.154066Z",
     "start_time": "2020-11-09T20:36:02.133115Z"
    }
   },
   "outputs": [
    {
     "data": {
      "text/html": [
       "<div>\n",
       "<style scoped>\n",
       "    .dataframe tbody tr th:only-of-type {\n",
       "        vertical-align: middle;\n",
       "    }\n",
       "\n",
       "    .dataframe tbody tr th {\n",
       "        vertical-align: top;\n",
       "    }\n",
       "\n",
       "    .dataframe thead th {\n",
       "        text-align: right;\n",
       "    }\n",
       "</style>\n",
       "<table border=\"1\" class=\"dataframe\">\n",
       "  <thead>\n",
       "    <tr style=\"text-align: right;\">\n",
       "      <th></th>\n",
       "      <th>customer_id</th>\n",
       "      <th>contract_id</th>\n",
       "      <th>deposit</th>\n",
       "      <th>amt_due</th>\n",
       "      <th>company</th>\n",
       "      <th>sector</th>\n",
       "      <th>industry</th>\n",
       "      <th>email</th>\n",
       "      <th>address</th>\n",
       "      <th>city</th>\n",
       "      <th>state</th>\n",
       "      <th>zip</th>\n",
       "    </tr>\n",
       "    <tr>\n",
       "      <th>due_date</th>\n",
       "      <th></th>\n",
       "      <th></th>\n",
       "      <th></th>\n",
       "      <th></th>\n",
       "      <th></th>\n",
       "      <th></th>\n",
       "      <th></th>\n",
       "      <th></th>\n",
       "      <th></th>\n",
       "      <th></th>\n",
       "      <th></th>\n",
       "      <th></th>\n",
       "    </tr>\n",
       "  </thead>\n",
       "  <tbody>\n",
       "    <tr>\n",
       "      <th>2021-09-14</th>\n",
       "      <td>4</td>\n",
       "      <td>378</td>\n",
       "      <td>False</td>\n",
       "      <td>15700.0</td>\n",
       "      <td>Viva</td>\n",
       "      <td>Health Care</td>\n",
       "      <td>Major Pharmaceuticals</td>\n",
       "      <td>wgiovanitti3@nytimes.com</td>\n",
       "      <td>074 Center Place</td>\n",
       "      <td>Topeka</td>\n",
       "      <td>KS</td>\n",
       "      <td>66667</td>\n",
       "    </tr>\n",
       "    <tr>\n",
       "      <th>2021-09-14</th>\n",
       "      <td>107</td>\n",
       "      <td>974</td>\n",
       "      <td>False</td>\n",
       "      <td>19900.0</td>\n",
       "      <td>Flashset</td>\n",
       "      <td>Health Care</td>\n",
       "      <td>Medical Specialities</td>\n",
       "      <td>mstummeyer2y@npr.org</td>\n",
       "      <td>236 Weeping Birch Parkway</td>\n",
       "      <td>Dallas</td>\n",
       "      <td>TX</td>\n",
       "      <td>75216</td>\n",
       "    </tr>\n",
       "    <tr>\n",
       "      <th>2021-09-25</th>\n",
       "      <td>183</td>\n",
       "      <td>364</td>\n",
       "      <td>False</td>\n",
       "      <td>18600.0</td>\n",
       "      <td>Bubblebox</td>\n",
       "      <td>Finance</td>\n",
       "      <td>Major Banks</td>\n",
       "      <td>kklageman52@about.me</td>\n",
       "      <td>6298 Maryland Center</td>\n",
       "      <td>Erie</td>\n",
       "      <td>PA</td>\n",
       "      <td>16510</td>\n",
       "    </tr>\n",
       "    <tr>\n",
       "      <th>2021-09-25</th>\n",
       "      <td>172</td>\n",
       "      <td>43</td>\n",
       "      <td>False</td>\n",
       "      <td>19700.0</td>\n",
       "      <td>Brainsphere</td>\n",
       "      <td>Health Care</td>\n",
       "      <td>Medical/Dental Instruments</td>\n",
       "      <td>sassur4r@bloglovin.com</td>\n",
       "      <td>5881 Ruskin Circle</td>\n",
       "      <td>Portland</td>\n",
       "      <td>OR</td>\n",
       "      <td>97206</td>\n",
       "    </tr>\n",
       "    <tr>\n",
       "      <th>2021-10-04</th>\n",
       "      <td>29</td>\n",
       "      <td>509</td>\n",
       "      <td>False</td>\n",
       "      <td>9400.0</td>\n",
       "      <td>Yodoo</td>\n",
       "      <td>NaN</td>\n",
       "      <td>NaN</td>\n",
       "      <td>lwinstanleys@noaa.gov</td>\n",
       "      <td>3 Oneill Court</td>\n",
       "      <td>Tucson</td>\n",
       "      <td>AZ</td>\n",
       "      <td>85715</td>\n",
       "    </tr>\n",
       "  </tbody>\n",
       "</table>\n",
       "</div>"
      ],
      "text/plain": [
       "            customer_id  contract_id  deposit  amt_due      company  \\\n",
       "due_date                                                              \n",
       "2021-09-14            4          378    False  15700.0         Viva   \n",
       "2021-09-14          107          974    False  19900.0     Flashset   \n",
       "2021-09-25          183          364    False  18600.0    Bubblebox   \n",
       "2021-09-25          172           43    False  19700.0  Brainsphere   \n",
       "2021-10-04           29          509    False   9400.0        Yodoo   \n",
       "\n",
       "                 sector                    industry                     email  \\\n",
       "due_date                                                                        \n",
       "2021-09-14  Health Care       Major Pharmaceuticals  wgiovanitti3@nytimes.com   \n",
       "2021-09-14  Health Care        Medical Specialities      mstummeyer2y@npr.org   \n",
       "2021-09-25      Finance                 Major Banks      kklageman52@about.me   \n",
       "2021-09-25  Health Care  Medical/Dental Instruments    sassur4r@bloglovin.com   \n",
       "2021-10-04          NaN                         NaN     lwinstanleys@noaa.gov   \n",
       "\n",
       "                              address      city state    zip  \n",
       "due_date                                                      \n",
       "2021-09-14           074 Center Place    Topeka    KS  66667  \n",
       "2021-09-14  236 Weeping Birch Parkway    Dallas    TX  75216  \n",
       "2021-09-25       6298 Maryland Center      Erie    PA  16510  \n",
       "2021-09-25         5881 Ruskin Circle  Portland    OR  97206  \n",
       "2021-10-04             3 Oneill Court    Tucson    AZ  85715  "
      ]
     },
     "execution_count": 6,
     "metadata": {},
     "output_type": "execute_result"
    }
   ],
   "source": [
    "df_detail.tail()"
   ]
  },
  {
   "cell_type": "code",
   "execution_count": 7,
   "metadata": {
    "ExecuteTime": {
     "end_time": "2020-11-09T20:36:02.460749Z",
     "start_time": "2020-11-09T20:36:02.158558Z"
    }
   },
   "outputs": [
    {
     "data": {
      "text/plain": [
       "<matplotlib.axes._subplots.AxesSubplot at 0x1a11fa6d520>"
      ]
     },
     "execution_count": 7,
     "metadata": {},
     "output_type": "execute_result"
    },
    {
     "data": {
      "image/png": "[encoded data removed]",
      "text/plain": [
       "<Figure size 432x288 with 1 Axes>"
      ]
     },
     "metadata": {
      "needs_background": "light"
     },
     "output_type": "display_data"
    }
   ],
   "source": [
    "df_detail['amt_due'].plot()"
   ]
  },
  {
   "cell_type": "code",
   "execution_count": 8,
   "metadata": {
    "ExecuteTime": {
     "end_time": "2020-11-09T20:36:02.686148Z",
     "start_time": "2020-11-09T20:36:02.463742Z"
    }
   },
   "outputs": [
    {
     "data": {
      "text/plain": [
       "<matplotlib.axes._subplots.AxesSubplot at 0x1a11fc18eb0>"
      ]
     },
     "execution_count": 8,
     "metadata": {},
     "output_type": "execute_result"
    },
    {
     "data": {
      "image/png": "[encoded data removed]",
      "text/plain": [
       "<Figure size 432x288 with 1 Axes>"
      ]
     },
     "metadata": {
      "needs_background": "light"
     },
     "output_type": "display_data"
    }
   ],
   "source": [
    "df_detail.loc[df_detail['deposit'], 'amt_due'].plot()"
   ]
  },
  {
   "cell_type": "code",
   "execution_count": 9,
   "metadata": {
    "ExecuteTime": {
     "end_time": "2020-11-09T20:36:02.952435Z",
     "start_time": "2020-11-09T20:36:02.691139Z"
    }
   },
   "outputs": [
    {
     "data": {
      "text/plain": [
       "<matplotlib.axes._subplots.AxesSubplot at 0x1a11fa31b50>"
      ]
     },
     "execution_count": 9,
     "metadata": {},
     "output_type": "execute_result"
    },
    {
     "data": {
      "image/png": "[encoded data removed]",
      "text/plain": [
       "<Figure size 432x288 with 1 Axes>"
      ]
     },
     "metadata": {
      "needs_background": "light"
     },
     "output_type": "display_data"
    }
   ],
   "source": [
    "df_detail.loc[(\n",
    "    (df_detail['deposit'] == False) &\n",
    "    (df_detail['contract_id'] == 974)\n",
    "), 'amt_due'].plot()"
   ]
  },
  {
   "cell_type": "code",
   "execution_count": 10,
   "metadata": {
    "ExecuteTime": {
     "end_time": "2020-11-09T20:36:03.209258Z",
     "start_time": "2020-11-09T20:36:02.957422Z"
    },
    "scrolled": true
   },
   "outputs": [
    {
     "data": {
      "text/plain": [
       "<matplotlib.axes._subplots.AxesSubplot at 0x1a11fc710a0>"
      ]
     },
     "execution_count": 10,
     "metadata": {},
     "output_type": "execute_result"
    },
    {
     "data": {
      "image/png": "[encoded data removed]",
      "text/plain": [
       "<Figure size 432x288 with 1 Axes>"
      ]
     },
     "metadata": {
      "needs_background": "light"
     },
     "output_type": "display_data"
    }
   ],
   "source": [
    "df_detail.loc[(\n",
    "    (df_detail['deposit'] == False) &\n",
    "    (df_detail['industry'] == 'Television Services')\n",
    "), 'amt_due'].plot()"
   ]
  },
  {
   "cell_type": "code",
   "execution_count": 12,
   "metadata": {
    "ExecuteTime": {
     "end_time": "2020-11-09T20:36:03.565306Z",
     "start_time": "2020-11-09T20:36:03.214246Z"
    },
    "scrolled": true
   },
   "outputs": [
    {
     "ename": "KeyError",
     "evalue": "'state'",
     "output_type": "error",
     "traceback": [
      "\u001b[1;31m---------------------------------------------------------------------------\u001b[0m",
      "\u001b[1;31mKeyError\u001b[0m                                  Traceback (most recent call last)",
      "\u001b[1;32m~\\anaconda3\\lib\\site-packages\\pandas\\core\\indexes\\base.py\u001b[0m in \u001b[0;36mget_loc\u001b[1;34m(self, key, method, tolerance)\u001b[0m\n\u001b[0;32m   2645\u001b[0m             \u001b[1;32mtry\u001b[0m\u001b[1;33m:\u001b[0m\u001b[1;33m\u001b[0m\u001b[1;33m\u001b[0m\u001b[0m\n\u001b[1;32m-> 2646\u001b[1;33m                 \u001b[1;32mreturn\u001b[0m \u001b[0mself\u001b[0m\u001b[1;33m.\u001b[0m\u001b[0m_engine\u001b[0m\u001b[1;33m.\u001b[0m\u001b[0mget_loc\u001b[0m\u001b[1;33m(\u001b[0m\u001b[0mkey\u001b[0m\u001b[1;33m)\u001b[0m\u001b[1;33m\u001b[0m\u001b[1;33m\u001b[0m\u001b[0m\n\u001b[0m\u001b[0;32m   2647\u001b[0m             \u001b[1;32mexcept\u001b[0m \u001b[0mKeyError\u001b[0m\u001b[1;33m:\u001b[0m\u001b[1;33m\u001b[0m\u001b[1;33m\u001b[0m\u001b[0m\n",
      "\u001b[1;32mpandas\\_libs\\index.pyx\u001b[0m in \u001b[0;36mpandas._libs.index.IndexEngine.get_loc\u001b[1;34m()\u001b[0m\n",
      "\u001b[1;32mpandas\\_libs\\index.pyx\u001b[0m in \u001b[0;36mpandas._libs.index.IndexEngine.get_loc\u001b[1;34m()\u001b[0m\n",
      "\u001b[1;32mpandas\\_libs\\hashtable_class_helper.pxi\u001b[0m in \u001b[0;36mpandas._libs.hashtable.PyObjectHashTable.get_item\u001b[1;34m()\u001b[0m\n",
      "\u001b[1;32mpandas\\_libs\\hashtable_class_helper.pxi\u001b[0m in \u001b[0;36mpandas._libs.hashtable.PyObjectHashTable.get_item\u001b[1;34m()\u001b[0m\n",
      "\u001b[1;31mKeyError\u001b[0m: 'state'",
      "\nDuring handling of the above exception, another exception occurred:\n",
      "\u001b[1;31mKeyError\u001b[0m                                  Traceback (most recent call last)",
      "\u001b[1;32m<ipython-input-12-d3c2aa3ab7df>\u001b[0m in \u001b[0;36m<module>\u001b[1;34m\u001b[0m\n\u001b[1;32m----> 1\u001b[1;33m \u001b[0mdf_detail\u001b[0m\u001b[1;33m.\u001b[0m\u001b[0mgroupby\u001b[0m\u001b[1;33m(\u001b[0m\u001b[1;34m'state'\u001b[0m\u001b[1;33m)\u001b[0m\u001b[1;33m.\u001b[0m\u001b[0magg\u001b[0m\u001b[1;33m(\u001b[0m\u001b[1;33m{\u001b[0m\u001b[1;34m'amt_due'\u001b[0m\u001b[1;33m:\u001b[0m\u001b[1;34m'sum'\u001b[0m\u001b[1;33m}\u001b[0m\u001b[1;33m)\u001b[0m\u001b[1;33m.\u001b[0m\u001b[0mplot\u001b[0m\u001b[1;33m.\u001b[0m\u001b[0mbar\u001b[0m\u001b[1;33m(\u001b[0m\u001b[0my\u001b[0m \u001b[1;33m=\u001b[0m \u001b[1;34m'amt_due'\u001b[0m\u001b[1;33m,\u001b[0m \u001b[0mx\u001b[0m\u001b[1;33m=\u001b[0m \u001b[1;34m'state'\u001b[0m\u001b[1;33m)\u001b[0m\u001b[1;33m\u001b[0m\u001b[1;33m\u001b[0m\u001b[0m\n\u001b[0m",
      "\u001b[1;32m~\\anaconda3\\lib\\site-packages\\pandas\\plotting\\_core.py\u001b[0m in \u001b[0;36mbar\u001b[1;34m(self, x, y, **kwargs)\u001b[0m\n\u001b[0;32m   1001\u001b[0m             \u001b[1;33m>>\u001b[0m\u001b[1;33m>\u001b[0m \u001b[0max\u001b[0m \u001b[1;33m=\u001b[0m \u001b[0mdf\u001b[0m\u001b[1;33m.\u001b[0m\u001b[0mplot\u001b[0m\u001b[1;33m.\u001b[0m\u001b[0mbar\u001b[0m\u001b[1;33m(\u001b[0m\u001b[0mx\u001b[0m\u001b[1;33m=\u001b[0m\u001b[1;34m'lifespan'\u001b[0m\u001b[1;33m,\u001b[0m \u001b[0mrot\u001b[0m\u001b[1;33m=\u001b[0m\u001b[1;36m0\u001b[0m\u001b[1;33m)\u001b[0m\u001b[1;33m\u001b[0m\u001b[1;33m\u001b[0m\u001b[0m\n\u001b[0;32m   1002\u001b[0m         \"\"\"\n\u001b[1;32m-> 1003\u001b[1;33m         \u001b[1;32mreturn\u001b[0m \u001b[0mself\u001b[0m\u001b[1;33m(\u001b[0m\u001b[0mkind\u001b[0m\u001b[1;33m=\u001b[0m\u001b[1;34m\"bar\"\u001b[0m\u001b[1;33m,\u001b[0m \u001b[0mx\u001b[0m\u001b[1;33m=\u001b[0m\u001b[0mx\u001b[0m\u001b[1;33m,\u001b[0m \u001b[0my\u001b[0m\u001b[1;33m=\u001b[0m\u001b[0my\u001b[0m\u001b[1;33m,\u001b[0m \u001b[1;33m**\u001b[0m\u001b[0mkwargs\u001b[0m\u001b[1;33m)\u001b[0m\u001b[1;33m\u001b[0m\u001b[1;33m\u001b[0m\u001b[0m\n\u001b[0m\u001b[0;32m   1004\u001b[0m \u001b[1;33m\u001b[0m\u001b[0m\n\u001b[0;32m   1005\u001b[0m     \u001b[1;32mdef\u001b[0m \u001b[0mbarh\u001b[0m\u001b[1;33m(\u001b[0m\u001b[0mself\u001b[0m\u001b[1;33m,\u001b[0m \u001b[0mx\u001b[0m\u001b[1;33m=\u001b[0m\u001b[1;32mNone\u001b[0m\u001b[1;33m,\u001b[0m \u001b[0my\u001b[0m\u001b[1;33m=\u001b[0m\u001b[1;32mNone\u001b[0m\u001b[1;33m,\u001b[0m \u001b[1;33m**\u001b[0m\u001b[0mkwargs\u001b[0m\u001b[1;33m)\u001b[0m\u001b[1;33m:\u001b[0m\u001b[1;33m\u001b[0m\u001b[1;33m\u001b[0m\u001b[0m\n",
      "\u001b[1;32m~\\anaconda3\\lib\\site-packages\\pandas\\plotting\\_core.py\u001b[0m in \u001b[0;36m__call__\u001b[1;34m(self, *args, **kwargs)\u001b[0m\n\u001b[0;32m    810\u001b[0m                 \u001b[1;32mif\u001b[0m \u001b[0mis_integer\u001b[0m\u001b[1;33m(\u001b[0m\u001b[0mx\u001b[0m\u001b[1;33m)\u001b[0m \u001b[1;32mand\u001b[0m \u001b[1;32mnot\u001b[0m \u001b[0mdata\u001b[0m\u001b[1;33m.\u001b[0m\u001b[0mcolumns\u001b[0m\u001b[1;33m.\u001b[0m\u001b[0mholds_integer\u001b[0m\u001b[1;33m(\u001b[0m\u001b[1;33m)\u001b[0m\u001b[1;33m:\u001b[0m\u001b[1;33m\u001b[0m\u001b[1;33m\u001b[0m\u001b[0m\n\u001b[0;32m    811\u001b[0m                     \u001b[0mx\u001b[0m \u001b[1;33m=\u001b[0m \u001b[0mdata_cols\u001b[0m\u001b[1;33m[\u001b[0m\u001b[0mx\u001b[0m\u001b[1;33m]\u001b[0m\u001b[1;33m\u001b[0m\u001b[1;33m\u001b[0m\u001b[0m\n\u001b[1;32m--> 812\u001b[1;33m                 \u001b[1;32melif\u001b[0m \u001b[1;32mnot\u001b[0m \u001b[0misinstance\u001b[0m\u001b[1;33m(\u001b[0m\u001b[0mdata\u001b[0m\u001b[1;33m[\u001b[0m\u001b[0mx\u001b[0m\u001b[1;33m]\u001b[0m\u001b[1;33m,\u001b[0m \u001b[0mABCSeries\u001b[0m\u001b[1;33m)\u001b[0m\u001b[1;33m:\u001b[0m\u001b[1;33m\u001b[0m\u001b[1;33m\u001b[0m\u001b[0m\n\u001b[0m\u001b[0;32m    813\u001b[0m                     \u001b[1;32mraise\u001b[0m \u001b[0mValueError\u001b[0m\u001b[1;33m(\u001b[0m\u001b[1;34m\"x must be a label or position\"\u001b[0m\u001b[1;33m)\u001b[0m\u001b[1;33m\u001b[0m\u001b[1;33m\u001b[0m\u001b[0m\n\u001b[0;32m    814\u001b[0m                 \u001b[0mdata\u001b[0m \u001b[1;33m=\u001b[0m \u001b[0mdata\u001b[0m\u001b[1;33m.\u001b[0m\u001b[0mset_index\u001b[0m\u001b[1;33m(\u001b[0m\u001b[0mx\u001b[0m\u001b[1;33m)\u001b[0m\u001b[1;33m\u001b[0m\u001b[1;33m\u001b[0m\u001b[0m\n",
      "\u001b[1;32m~\\anaconda3\\lib\\site-packages\\pandas\\core\\frame.py\u001b[0m in \u001b[0;36m__getitem__\u001b[1;34m(self, key)\u001b[0m\n\u001b[0;32m   2798\u001b[0m             \u001b[1;32mif\u001b[0m \u001b[0mself\u001b[0m\u001b[1;33m.\u001b[0m\u001b[0mcolumns\u001b[0m\u001b[1;33m.\u001b[0m\u001b[0mnlevels\u001b[0m \u001b[1;33m>\u001b[0m \u001b[1;36m1\u001b[0m\u001b[1;33m:\u001b[0m\u001b[1;33m\u001b[0m\u001b[1;33m\u001b[0m\u001b[0m\n\u001b[0;32m   2799\u001b[0m                 \u001b[1;32mreturn\u001b[0m \u001b[0mself\u001b[0m\u001b[1;33m.\u001b[0m\u001b[0m_getitem_multilevel\u001b[0m\u001b[1;33m(\u001b[0m\u001b[0mkey\u001b[0m\u001b[1;33m)\u001b[0m\u001b[1;33m\u001b[0m\u001b[1;33m\u001b[0m\u001b[0m\n\u001b[1;32m-> 2800\u001b[1;33m             \u001b[0mindexer\u001b[0m \u001b[1;33m=\u001b[0m \u001b[0mself\u001b[0m\u001b[1;33m.\u001b[0m\u001b[0mcolumns\u001b[0m\u001b[1;33m.\u001b[0m\u001b[0mget_loc\u001b[0m\u001b[1;33m(\u001b[0m\u001b[0mkey\u001b[0m\u001b[1;33m)\u001b[0m\u001b[1;33m\u001b[0m\u001b[1;33m\u001b[0m\u001b[0m\n\u001b[0m\u001b[0;32m   2801\u001b[0m             \u001b[1;32mif\u001b[0m \u001b[0mis_integer\u001b[0m\u001b[1;33m(\u001b[0m\u001b[0mindexer\u001b[0m\u001b[1;33m)\u001b[0m\u001b[1;33m:\u001b[0m\u001b[1;33m\u001b[0m\u001b[1;33m\u001b[0m\u001b[0m\n\u001b[0;32m   2802\u001b[0m                 \u001b[0mindexer\u001b[0m \u001b[1;33m=\u001b[0m \u001b[1;33m[\u001b[0m\u001b[0mindexer\u001b[0m\u001b[1;33m]\u001b[0m\u001b[1;33m\u001b[0m\u001b[1;33m\u001b[0m\u001b[0m\n",
      "\u001b[1;32m~\\anaconda3\\lib\\site-packages\\pandas\\core\\indexes\\base.py\u001b[0m in \u001b[0;36mget_loc\u001b[1;34m(self, key, method, tolerance)\u001b[0m\n\u001b[0;32m   2646\u001b[0m                 \u001b[1;32mreturn\u001b[0m \u001b[0mself\u001b[0m\u001b[1;33m.\u001b[0m\u001b[0m_engine\u001b[0m\u001b[1;33m.\u001b[0m\u001b[0mget_loc\u001b[0m\u001b[1;33m(\u001b[0m\u001b[0mkey\u001b[0m\u001b[1;33m)\u001b[0m\u001b[1;33m\u001b[0m\u001b[1;33m\u001b[0m\u001b[0m\n\u001b[0;32m   2647\u001b[0m             \u001b[1;32mexcept\u001b[0m \u001b[0mKeyError\u001b[0m\u001b[1;33m:\u001b[0m\u001b[1;33m\u001b[0m\u001b[1;33m\u001b[0m\u001b[0m\n\u001b[1;32m-> 2648\u001b[1;33m                 \u001b[1;32mreturn\u001b[0m \u001b[0mself\u001b[0m\u001b[1;33m.\u001b[0m\u001b[0m_engine\u001b[0m\u001b[1;33m.\u001b[0m\u001b[0mget_loc\u001b[0m\u001b[1;33m(\u001b[0m\u001b[0mself\u001b[0m\u001b[1;33m.\u001b[0m\u001b[0m_maybe_cast_indexer\u001b[0m\u001b[1;33m(\u001b[0m\u001b[0mkey\u001b[0m\u001b[1;33m)\u001b[0m\u001b[1;33m)\u001b[0m\u001b[1;33m\u001b[0m\u001b[1;33m\u001b[0m\u001b[0m\n\u001b[0m\u001b[0;32m   2649\u001b[0m         \u001b[0mindexer\u001b[0m \u001b[1;33m=\u001b[0m \u001b[0mself\u001b[0m\u001b[1;33m.\u001b[0m\u001b[0mget_indexer\u001b[0m\u001b[1;33m(\u001b[0m\u001b[1;33m[\u001b[0m\u001b[0mkey\u001b[0m\u001b[1;33m]\u001b[0m\u001b[1;33m,\u001b[0m \u001b[0mmethod\u001b[0m\u001b[1;33m=\u001b[0m\u001b[0mmethod\u001b[0m\u001b[1;33m,\u001b[0m \u001b[0mtolerance\u001b[0m\u001b[1;33m=\u001b[0m\u001b[0mtolerance\u001b[0m\u001b[1;33m)\u001b[0m\u001b[1;33m\u001b[0m\u001b[1;33m\u001b[0m\u001b[0m\n\u001b[0;32m   2650\u001b[0m         \u001b[1;32mif\u001b[0m \u001b[0mindexer\u001b[0m\u001b[1;33m.\u001b[0m\u001b[0mndim\u001b[0m \u001b[1;33m>\u001b[0m \u001b[1;36m1\u001b[0m \u001b[1;32mor\u001b[0m \u001b[0mindexer\u001b[0m\u001b[1;33m.\u001b[0m\u001b[0msize\u001b[0m \u001b[1;33m>\u001b[0m \u001b[1;36m1\u001b[0m\u001b[1;33m:\u001b[0m\u001b[1;33m\u001b[0m\u001b[1;33m\u001b[0m\u001b[0m\n",
      "\u001b[1;32mpandas\\_libs\\index.pyx\u001b[0m in \u001b[0;36mpandas._libs.index.IndexEngine.get_loc\u001b[1;34m()\u001b[0m\n",
      "\u001b[1;32mpandas\\_libs\\index.pyx\u001b[0m in \u001b[0;36mpandas._libs.index.IndexEngine.get_loc\u001b[1;34m()\u001b[0m\n",
      "\u001b[1;32mpandas\\_libs\\hashtable_class_helper.pxi\u001b[0m in \u001b[0;36mpandas._libs.hashtable.PyObjectHashTable.get_item\u001b[1;34m()\u001b[0m\n",
      "\u001b[1;32mpandas\\_libs\\hashtable_class_helper.pxi\u001b[0m in \u001b[0;36mpandas._libs.hashtable.PyObjectHashTable.get_item\u001b[1;34m()\u001b[0m\n",
      "\u001b[1;31mKeyError\u001b[0m: 'state'"
     ]
    }
   ],
   "source": [
    "df_detail.groupby('state').agg({'amt_due':'sum'}).plot.bar(y = 'amt_due', x= 'state')"
   ]
  },
  {
   "cell_type": "code",
   "execution_count": 13,
   "metadata": {
    "ExecuteTime": {
     "end_time": "2020-11-09T20:36:30.282025Z",
     "start_time": "2020-11-09T20:36:29.836217Z"
    }
   },
   "outputs": [
    {
     "data": {
      "text/plain": [
       "<matplotlib.axes._subplots.AxesSubplot at 0x1a11fbcf1c0>"
      ]
     },
     "execution_count": 13,
     "metadata": {},
     "output_type": "execute_result"
    },
    {
     "data": {
      "image/png": "[encoded data removed]",
      "text/plain": [
       "<Figure size 432x288 with 1 Axes>"
      ]
     },
     "metadata": {
      "needs_background": "light"
     },
     "output_type": "display_data"
    }
   ],
   "source": [
    "df_detail.groupby('state', as_index=False).agg({'amt_due':'sum'}).plot.bar(y = 'amt_due', x= 'state')"
   ]
  },
  {
   "cell_type": "code",
   "execution_count": 14,
   "metadata": {
    "ExecuteTime": {
     "end_time": "2020-11-09T20:36:31.760120Z",
     "start_time": "2020-11-09T20:36:31.329273Z"
    }
   },
   "outputs": [
    {
     "data": {
      "text/plain": [
       "<matplotlib.axes._subplots.AxesSubplot at 0x1a1218ebac0>"
      ]
     },
     "execution_count": 14,
     "metadata": {},
     "output_type": "execute_result"
    },
    {
     "data": {
      "image/png": "[encoded data removed]",
      "text/plain": [
       "<Figure size 432x288 with 1 Axes>"
      ]
     },
     "metadata": {
      "needs_background": "light"
     },
     "output_type": "display_data"
    }
   ],
   "source": [
    "df_detail.groupby('state', as_index=False).agg({'amt_due':'sum'}).sort_values('amt_due').plot.bar(y = 'amt_due', x= 'state')"
   ]
  },
  {
   "cell_type": "code",
   "execution_count": 15,
   "metadata": {
    "ExecuteTime": {
     "end_time": "2020-11-09T20:36:33.306034Z",
     "start_time": "2020-11-09T20:36:33.256167Z"
    }
   },
   "outputs": [
    {
     "data": {
      "text/html": [
       "<div>\n",
       "<style scoped>\n",
       "    .dataframe tbody tr th:only-of-type {\n",
       "        vertical-align: middle;\n",
       "    }\n",
       "\n",
       "    .dataframe tbody tr th {\n",
       "        vertical-align: top;\n",
       "    }\n",
       "\n",
       "    .dataframe thead th {\n",
       "        text-align: right;\n",
       "    }\n",
       "</style>\n",
       "<table border=\"1\" class=\"dataframe\">\n",
       "  <thead>\n",
       "    <tr style=\"text-align: right;\">\n",
       "      <th></th>\n",
       "      <th>due_date</th>\n",
       "      <th>customer_id</th>\n",
       "      <th>contract_id</th>\n",
       "      <th>deposit</th>\n",
       "      <th>amt_due</th>\n",
       "      <th>company</th>\n",
       "      <th>sector</th>\n",
       "      <th>industry</th>\n",
       "      <th>email</th>\n",
       "      <th>address</th>\n",
       "      <th>city</th>\n",
       "      <th>state</th>\n",
       "      <th>zip</th>\n",
       "      <th>year</th>\n",
       "      <th>month</th>\n",
       "    </tr>\n",
       "  </thead>\n",
       "  <tbody>\n",
       "    <tr>\n",
       "      <th>0</th>\n",
       "      <td>2019-01-01</td>\n",
       "      <td>20</td>\n",
       "      <td>60</td>\n",
       "      <td>False</td>\n",
       "      <td>11900.0</td>\n",
       "      <td>Omba</td>\n",
       "      <td>NaN</td>\n",
       "      <td>NaN</td>\n",
       "      <td>ctreblej@ifeng.com</td>\n",
       "      <td>2120 Kensington Center</td>\n",
       "      <td>Seattle</td>\n",
       "      <td>WA</td>\n",
       "      <td>98185</td>\n",
       "      <td>2019</td>\n",
       "      <td>1</td>\n",
       "    </tr>\n",
       "    <tr>\n",
       "      <th>1</th>\n",
       "      <td>2019-01-01</td>\n",
       "      <td>90</td>\n",
       "      <td>392</td>\n",
       "      <td>True</td>\n",
       "      <td>67000.0</td>\n",
       "      <td>Brightbean</td>\n",
       "      <td>Health Care</td>\n",
       "      <td>Biotechnology: Biological Products (No Diagnos...</td>\n",
       "      <td>ncoaten2h@altervista.org</td>\n",
       "      <td>11712 Elgar Center</td>\n",
       "      <td>Portland</td>\n",
       "      <td>OR</td>\n",
       "      <td>97206</td>\n",
       "      <td>2019</td>\n",
       "      <td>1</td>\n",
       "    </tr>\n",
       "    <tr>\n",
       "      <th>2</th>\n",
       "      <td>2019-01-01</td>\n",
       "      <td>90</td>\n",
       "      <td>392</td>\n",
       "      <td>False</td>\n",
       "      <td>7700.0</td>\n",
       "      <td>Brightbean</td>\n",
       "      <td>Health Care</td>\n",
       "      <td>Biotechnology: Biological Products (No Diagnos...</td>\n",
       "      <td>ncoaten2h@altervista.org</td>\n",
       "      <td>11712 Elgar Center</td>\n",
       "      <td>Portland</td>\n",
       "      <td>OR</td>\n",
       "      <td>97206</td>\n",
       "      <td>2019</td>\n",
       "      <td>1</td>\n",
       "    </tr>\n",
       "    <tr>\n",
       "      <th>3</th>\n",
       "      <td>2019-01-01</td>\n",
       "      <td>168</td>\n",
       "      <td>627</td>\n",
       "      <td>True</td>\n",
       "      <td>78000.0</td>\n",
       "      <td>Leenti</td>\n",
       "      <td>Consumer Services</td>\n",
       "      <td>Television Services</td>\n",
       "      <td>ndoone4n@go.com</td>\n",
       "      <td>471 Northwestern Way</td>\n",
       "      <td>Cincinnati</td>\n",
       "      <td>OH</td>\n",
       "      <td>45208</td>\n",
       "      <td>2019</td>\n",
       "      <td>1</td>\n",
       "    </tr>\n",
       "    <tr>\n",
       "      <th>4</th>\n",
       "      <td>2019-01-01</td>\n",
       "      <td>168</td>\n",
       "      <td>627</td>\n",
       "      <td>False</td>\n",
       "      <td>18700.0</td>\n",
       "      <td>Leenti</td>\n",
       "      <td>Consumer Services</td>\n",
       "      <td>Television Services</td>\n",
       "      <td>ndoone4n@go.com</td>\n",
       "      <td>471 Northwestern Way</td>\n",
       "      <td>Cincinnati</td>\n",
       "      <td>OH</td>\n",
       "      <td>45208</td>\n",
       "      <td>2019</td>\n",
       "      <td>1</td>\n",
       "    </tr>\n",
       "  </tbody>\n",
       "</table>\n",
       "</div>"
      ],
      "text/plain": [
       "    due_date  customer_id  contract_id  deposit  amt_due     company  \\\n",
       "0 2019-01-01           20           60    False  11900.0        Omba   \n",
       "1 2019-01-01           90          392     True  67000.0  Brightbean   \n",
       "2 2019-01-01           90          392    False   7700.0  Brightbean   \n",
       "3 2019-01-01          168          627     True  78000.0      Leenti   \n",
       "4 2019-01-01          168          627    False  18700.0      Leenti   \n",
       "\n",
       "              sector                                           industry  \\\n",
       "0                NaN                                                NaN   \n",
       "1        Health Care  Biotechnology: Biological Products (No Diagnos...   \n",
       "2        Health Care  Biotechnology: Biological Products (No Diagnos...   \n",
       "3  Consumer Services                                Television Services   \n",
       "4  Consumer Services                                Television Services   \n",
       "\n",
       "                      email                 address        city state    zip  \\\n",
       "0        ctreblej@ifeng.com  2120 Kensington Center     Seattle    WA  98185   \n",
       "1  ncoaten2h@altervista.org      11712 Elgar Center    Portland    OR  97206   \n",
       "2  ncoaten2h@altervista.org      11712 Elgar Center    Portland    OR  97206   \n",
       "3           ndoone4n@go.com    471 Northwestern Way  Cincinnati    OH  45208   \n",
       "4           ndoone4n@go.com    471 Northwestern Way  Cincinnati    OH  45208   \n",
       "\n",
       "   year  month  \n",
       "0  2019      1  \n",
       "1  2019      1  \n",
       "2  2019      1  \n",
       "3  2019      1  \n",
       "4  2019      1  "
      ]
     },
     "execution_count": 15,
     "metadata": {},
     "output_type": "execute_result"
    }
   ],
   "source": [
    "df_v = df_detail.reset_index()\n",
    "df_v['year'] = df_v['due_date'].dt.year\n",
    "df_v['month'] = df_v['due_date'].dt.month\n",
    "df_v.head()"
   ]
  },
  {
   "cell_type": "code",
   "execution_count": 16,
   "metadata": {
    "ExecuteTime": {
     "end_time": "2020-11-09T20:36:35.304218Z",
     "start_time": "2020-11-09T20:36:35.105239Z"
    }
   },
   "outputs": [
    {
     "data": {
      "text/plain": [
       "<matplotlib.axes._subplots.AxesSubplot at 0x1a1219e3fa0>"
      ]
     },
     "execution_count": 16,
     "metadata": {},
     "output_type": "execute_result"
    },
    {
     "data": {
      "image/png": "[encoded data removed]",
      "text/plain": [
       "<Figure size 432x288 with 1 Axes>"
      ]
     },
     "metadata": {
      "needs_background": "light"
     },
     "output_type": "display_data"
    }
   ],
   "source": [
    "df_v.groupby(['year', 'month']).agg({'amt_due':sum}).plot()"
   ]
  },
  {
   "cell_type": "code",
   "execution_count": null,
   "metadata": {
    "ExecuteTime": {
     "end_time": "2020-11-09T20:36:37.296404Z",
     "start_time": "2020-11-09T20:36:37.024133Z"
    }
   },
   "outputs": [],
   "source": [
    "df_v.groupby(['year', 'month']).agg({'amt_due':sum}).plot(figsize=(20, 10))"
   ]
  },
  {
   "cell_type": "code",
   "execution_count": null,
   "metadata": {
    "ExecuteTime": {
     "end_time": "2020-11-09T20:36:45.937949Z",
     "start_time": "2020-11-09T20:36:45.602341Z"
    }
   },
   "outputs": [],
   "source": [
    "fmt = '${x:,.0f}'\n",
    "tick = mtick.StrMethodFormatter(fmt)\n",
    "\n",
    "df_v.groupby(['year', 'month']).agg({'amt_due':sum}).plot(figsize=(20, 10)).yaxis.set_major_formatter(tick)\n",
    "plt.xticks(rotation=45)"
   ]
  }
 ],
 "metadata": {
  "kernelspec": {
   "display_name": "Python 3",
   "language": "python",
   "name": "python3"
  },
  "language_info": {
   "codemirror_mode": {
    "name": "ipython",
    "version": 3
   },
   "file_extension": ".py",
   "mimetype": "text/x-python",
   "name": "python",
   "nbconvert_exporter": "python",
   "pygments_lexer": "ipython3",
   "version": "3.8.3"
  },
  "toc": {
   "base_numbering": 1,
   "nav_menu": {},
   "number_sections": true,
   "sideBar": true,
   "skip_h1_title": false,
   "title_cell": "Table of Contents",
   "title_sidebar": "Contents",
   "toc_cell": false,
   "toc_position": {},
   "toc_section_display": true,
   "toc_window_display": false
  },
  "varInspector": {
   "cols": {
    "lenName": 16,
    "lenType": 16,
    "lenVar": 40
   },
   "kernels_config": {
    "python": {
     "delete_cmd_postfix": "",
     "delete_cmd_prefix": "del ",
     "library": "var_list.py",
     "varRefreshCmd": "print(var_dic_list())"
    },
    "r": {
     "delete_cmd_postfix": ") ",
     "delete_cmd_prefix": "rm(",
     "library": "var_list.r",
     "varRefreshCmd": "cat(var_dic_list()) "
    }
   },
   "types_to_exclude": [
    "module",
    "function",
    "builtin_function_or_method",
    "instance",
    "_Feature"
   ],
   "window_display": false
  }
 },
 "nbformat": 4,
 "nbformat_minor": 4
}
